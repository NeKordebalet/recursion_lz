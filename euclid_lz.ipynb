{
 "cells": [
  {
   "cell_type": "code",
   "execution_count": 2,
   "metadata": {},
   "outputs": [
    {
     "name": "stdout",
     "output_type": "stream",
     "text": [
      "НОД из двух чисел равен: \n",
      "1\n"
     ]
    }
   ],
   "source": [
    "def dan(x, y): \n",
    "    if(y == 0): \n",
    "        return x  # вернуть x\n",
    "    else: \n",
    "        return dan(y, x % y) \n",
    "x =int(input(\"Введите первое число: \")) # 1-ое число  \n",
    "y =int(input(\"Введите второе число: \")) # 2-ое число  \n",
    "num = dan(x, y) # вызов функции dan для нахождения результата\n",
    "print(\"НОД из двух чисел равен: \") \n",
    "print(num) # Вызов num"
   ]
  }
 ],
 "metadata": {
  "kernelspec": {
   "display_name": "Python 3",
   "language": "python",
   "name": "python3"
  },
  "language_info": {
   "codemirror_mode": {
    "name": "ipython",
    "version": 3
   },
   "file_extension": ".py",
   "mimetype": "text/x-python",
   "name": "python",
   "nbconvert_exporter": "python",
   "pygments_lexer": "ipython3",
   "version": "3.12.6"
  }
 },
 "nbformat": 4,
 "nbformat_minor": 2
}
